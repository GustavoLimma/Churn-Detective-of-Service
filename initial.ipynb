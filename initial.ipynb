version https://git-lfs.github.com/spec/v1
oid sha256:98ea69e8762826c371cf61b89fa16e2175507391e5cad837f16b7cd5c31f4b52
size 66024230

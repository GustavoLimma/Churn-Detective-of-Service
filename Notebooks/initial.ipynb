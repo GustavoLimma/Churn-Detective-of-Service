version https://git-lfs.github.com/spec/v1
oid sha256:b3e592199886a0e5e0a85423bc2df9f17e3ff57ad293759cc2b70751249003a3
size 56600837

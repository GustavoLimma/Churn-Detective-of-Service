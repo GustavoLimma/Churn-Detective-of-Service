version https://git-lfs.github.com/spec/v1
oid sha256:f82d69404de255fcf6cb35f233ffe69962f009ad9e98b93467322cba99022483
size 22503603
